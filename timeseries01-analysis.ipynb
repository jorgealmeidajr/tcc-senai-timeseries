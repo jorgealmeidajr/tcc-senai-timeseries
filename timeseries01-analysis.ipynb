{
 "cells": [
  {
   "cell_type": "code",
   "execution_count": null,
   "metadata": {},
   "outputs": [],
   "source": [
    "import pandas as pd\n",
    "\n",
    "import matplotlib.pyplot as plt\n",
    "\n",
    "%matplotlib inline"
   ]
  },
  {
   "cell_type": "code",
   "execution_count": null,
   "metadata": {},
   "outputs": [],
   "source": [
    "dollar_brazilian_timeserie_full = pd.read_csv('data/us-dollar-vs-brazilian-real-rate.csv', header=0, names=['date', 'rate'])\n",
    "dollar_brazilian_timeserie_full.head(5)"
   ]
  },
  {
   "cell_type": "code",
   "execution_count": null,
   "metadata": {},
   "outputs": [],
   "source": [
    "print(str(dollar_brazilian_timeserie_full.dtypes) + \"\\n\")\n",
    "print(type(dollar_brazilian_timeserie_full))"
   ]
  },
  {
   "cell_type": "code",
   "execution_count": null,
   "metadata": {},
   "outputs": [],
   "source": [
    "dollar_brazilian_timeserie_full['date'] = pd.to_datetime(dollar_brazilian_timeserie_full['date'])\n",
    "dollar_brazilian_timeserie_full.head(5)"
   ]
  },
  {
   "cell_type": "code",
   "execution_count": null,
   "metadata": {},
   "outputs": [],
   "source": [
    "print(str(dollar_brazilian_timeserie_full.dtypes) + \"\\n\")\n",
    "print(type(dollar_brazilian_timeserie_full))\n",
    "\n",
    "dollar_brazilian_timeserie_full['rate'] = df['rate'].astype('str')\n",
    "problem = dollar_brazilian_timeserie_full['rate'] == '.'\n",
    "print(problem.head(5))\n",
    "\n",
    "dollar_brazilian_timeserie_full = dollar_brazilian_timeserie_full[dollar_brazilian_timeserie_full.rate != '.']\n",
    "problem = dollar_brazilian_timeserie_full['rate'] == '.'\n",
    "print(problem.head(5))"
   ]
  },
  {
   "cell_type": "code",
   "execution_count": null,
   "metadata": {},
   "outputs": [],
   "source": [
    "df = dollar_brazilian_timeserie_full.copy()\n",
    "\n",
    "df['date'] = pd.to_datetime(df['date'])\n",
    "df = df.set_index('date')\n",
    "\n",
    "df.rate = pd.to_numeric(df.rate)\n",
    "\n",
    "print(str(df.dtypes) + \"\\n\")\n",
    "print(type(df))\n",
    "df.head(5)"
   ]
  },
  {
   "cell_type": "code",
   "execution_count": null,
   "metadata": {},
   "outputs": [],
   "source": [
    "df.plot(figsize=(20,10), linewidth=5, fontsize=20)\n",
    "plt.xlabel('Time', fontsize=20)"
   ]
  }
 ],
 "metadata": {
  "kernelspec": {
   "display_name": "Python 3",
   "language": "python",
   "name": "python3"
  },
  "language_info": {
   "codemirror_mode": {
    "name": "ipython",
    "version": 3
   },
   "file_extension": ".py",
   "mimetype": "text/x-python",
   "name": "python",
   "nbconvert_exporter": "python",
   "pygments_lexer": "ipython3",
   "version": "3.6.5"
  }
 },
 "nbformat": 4,
 "nbformat_minor": 2
}
