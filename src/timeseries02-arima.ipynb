{
 "cells": [
  {
   "cell_type": "code",
   "execution_count": null,
   "metadata": {
    "colab": {},
    "colab_type": "code",
    "id": "pERLMeOZRrF_"
   },
   "outputs": [],
   "source": [
    "import warnings\n",
    "import pandas as pd\n",
    "import numpy as np\n",
    "\n",
    "# imports de modulos que estao definidos dentro do projeto\n",
    "import data\n",
    "import arima\n",
    "import timeseries\n",
    "\n",
    "import matplotlib.pyplot as plt\n",
    "\n",
    "%matplotlib inline"
   ]
  },
  {
   "cell_type": "code",
   "execution_count": null,
   "metadata": {},
   "outputs": [],
   "source": [
    "timeseries02_daily = data.load_timeseries02_daily()\n",
    "\n",
    "timeseries02_daily.plot(figsize=(15, 10), linewidth=2, fontsize=15, style='b.')\n",
    "plt.grid(True)\n",
    "plt.xlabel('Ano', fontsize=15)"
   ]
  },
  {
   "cell_type": "code",
   "execution_count": null,
   "metadata": {},
   "outputs": [],
   "source": [
    "timeseries02_monthly = data.load_timeseries02_monthly()\n",
    "\n",
    "timeseries02_monthly.plot(figsize=(15, 10), linewidth=2, fontsize=15, style='r.')\n",
    "plt.grid(True)\n",
    "plt.xlabel('Ano', fontsize=15)"
   ]
  },
  {
   "cell_type": "code",
   "execution_count": null,
   "metadata": {},
   "outputs": [],
   "source": [
    "timeseries.check_stationarity(timeseries02_monthly, window=12)"
   ]
  },
  {
   "cell_type": "code",
   "execution_count": null,
   "metadata": {},
   "outputs": [],
   "source": [
    "timeseries02_monthly_log = np.log(timeseries02_monthly)\n",
    "timeseries.check_stationarity(timeseries02_monthly_log, window=12)"
   ]
  },
  {
   "cell_type": "code",
   "execution_count": null,
   "metadata": {},
   "outputs": [],
   "source": [
    "from statsmodels.tsa.seasonal import seasonal_decompose\n",
    "\n",
    "decomposition = seasonal_decompose(timeseries02_monthly)\n",
    "\n",
    "trend = decomposition.trend\n",
    "seasonal = decomposition.seasonal\n",
    "residual = decomposition.resid\n",
    "\n",
    "# Select the most recent weeks \n",
    "ts_euro_week_log_select = timeseries02_monthly_log[-100:]\n",
    "\n",
    "plt.subplot(411)\n",
    "plt.plot(ts_euro_week_log_select.index.to_pydatetime(), ts_euro_week_log_select.values, label='Original')\n",
    "plt.legend(loc='best')\n",
    "plt.subplot(412)\n",
    "plt.plot(ts_euro_week_log_select.index.to_pydatetime(), trend[-100:].values, label='Trend')\n",
    "plt.legend(loc='best')\n",
    "plt.subplot(413)\n",
    "plt.plot(ts_euro_week_log_select.index.to_pydatetime(), seasonal[-100:].values,label='Seasonality')\n",
    "plt.legend(loc='best')\n",
    "plt.subplot(414)\n",
    "plt.plot(ts_euro_week_log_select.index.to_pydatetime(), residual[-100:].values, label='Residuals')\n",
    "plt.legend(loc='best')\n",
    "plt.tight_layout()"
   ]
  },
  {
   "cell_type": "code",
   "execution_count": null,
   "metadata": {},
   "outputs": [],
   "source": [
    "ts_euro_week_log_diff = timeseries02_monthly_log - timeseries02_monthly_log.shift()\n",
    "plt.plot(ts_euro_week_log_diff.index.to_pydatetime(), ts_euro_week_log_diff.values)"
   ]
  },
  {
   "cell_type": "code",
   "execution_count": null,
   "metadata": {},
   "outputs": [],
   "source": [
    "ts_euro_week_log_diff.dropna(inplace=True)\n",
    "timeseries.check_stationarity(ts_euro_week_log_diff, window=12)"
   ]
  },
  {
   "cell_type": "code",
   "execution_count": null,
   "metadata": {},
   "outputs": [],
   "source": [
    "warnings.filterwarnings(\"ignore\")\n",
    "\n",
    "arima_params = arima.get_arima_params(\n",
    "    p_values=range(0, 15),\n",
    "    d_values=range(0, 10),\n",
    "    q_values=range(0, 10))\n",
    "#print(len(arima_params))\n",
    "\n",
    "#arima.evaluate_models(timeseries02_monthly.values, arima_params)\n",
    "arima.evaluate_models(ts_euro_week_log_diff.values, arima_params)"
   ]
  }
 ],
 "metadata": {
  "colab": {
   "collapsed_sections": [],
   "name": "arima02",
   "provenance": [],
   "version": "0.3.2"
  },
  "kernelspec": {
   "display_name": "Python 3",
   "language": "python",
   "name": "python3"
  },
  "language_info": {
   "codemirror_mode": {
    "name": "ipython",
    "version": 3
   },
   "file_extension": ".py",
   "mimetype": "text/x-python",
   "name": "python",
   "nbconvert_exporter": "python",
   "pygments_lexer": "ipython3",
   "version": "3.6.5"
  }
 },
 "nbformat": 4,
 "nbformat_minor": 1
}
