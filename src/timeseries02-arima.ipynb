{
 "cells": [
  {
   "cell_type": "code",
   "execution_count": null,
   "metadata": {
    "colab": {},
    "colab_type": "code",
    "id": "pERLMeOZRrF_"
   },
   "outputs": [],
   "source": [
    "import warnings\n",
    "import pandas as pd\n",
    "import numpy as np\n",
    "\n",
    "from statsmodels.tsa.seasonal import seasonal_decompose\n",
    "\n",
    "# imports de modulos que estao definidos dentro do projeto\n",
    "import data\n",
    "import arima\n",
    "import timeseries\n",
    "\n",
    "import matplotlib.pyplot as plt\n",
    "\n",
    "%matplotlib inline"
   ]
  },
  {
   "cell_type": "code",
   "execution_count": null,
   "metadata": {},
   "outputs": [],
   "source": [
    "timeseries02_daily = data.load_timeseries02_daily()\n",
    "\n",
    "timeseries02_daily.plot(figsize=(15, 10), linewidth=2, fontsize=15, style='b.')\n",
    "plt.grid(True)\n",
    "plt.xlabel('Ano', fontsize=15)"
   ]
  },
  {
   "cell_type": "code",
   "execution_count": null,
   "metadata": {},
   "outputs": [],
   "source": [
    "timeseries02_monthly = data.load_timeseries02_monthly()\n",
    "\n",
    "timeseries02_monthly.plot(figsize=(15, 10), linewidth=2, fontsize=15, style='r.')\n",
    "plt.grid(True)\n",
    "plt.xlabel('Ano', fontsize=15)"
   ]
  },
  {
   "cell_type": "code",
   "execution_count": null,
   "metadata": {},
   "outputs": [],
   "source": [
    "timeseries.check_stationarity(timeseries02_monthly, window=12)"
   ]
  },
  {
   "cell_type": "code",
   "execution_count": null,
   "metadata": {},
   "outputs": [],
   "source": [
    "# Apply a nonlinear log transformation\n",
    "# Log Scale Transformation\n",
    "timeseries02_monthly_log = np.log(timeseries02_monthly)\n",
    "timeseries.check_stationarity(timeseries02_monthly_log, window=12)"
   ]
  },
  {
   "cell_type": "code",
   "execution_count": null,
   "metadata": {},
   "outputs": [],
   "source": [
    "result = seasonal_decompose(timeseries02_monthly_log, model='additive')\n",
    "#result = seasonal_decompose(timeseries02_monthly_log, model='multiplicative')\n",
    "result.plot()\n",
    "plt.show()"
   ]
  },
  {
   "cell_type": "code",
   "execution_count": null,
   "metadata": {},
   "outputs": [],
   "source": [
    "movingAverage = timeseries02_monthly_log.rolling(window=12).mean()\n",
    "t1 = timeseries02_monthly_log - movingAverage\n",
    "t1.dropna(inplace=True)\n",
    "timeseries.check_stationarity(t1, window=12)"
   ]
  },
  {
   "cell_type": "code",
   "execution_count": null,
   "metadata": {},
   "outputs": [],
   "source": [
    "# Remove trend and seasonality with differencing\n",
    "# Time Shift Transformation \n",
    "ts_euro_week_log_diff = timeseries02_monthly_log - timeseries02_monthly_log.shift()\n",
    "plt.plot(ts_euro_week_log_diff)"
   ]
  },
  {
   "cell_type": "code",
   "execution_count": null,
   "metadata": {},
   "outputs": [],
   "source": [
    "ts_euro_week_log_diff.dropna(inplace=True)\n",
    "timeseries.check_stationarity(ts_euro_week_log_diff, window=12)"
   ]
  },
  {
   "cell_type": "code",
   "execution_count": null,
   "metadata": {},
   "outputs": [],
   "source": [
    "#Exponential Decay Transformation\n",
    "exponentialDecayWeightedAverage = timeseries02_monthly_log.ewm(halflife=12, min_periods=0, adjust=True).mean()\n",
    "datasetLogScaleMinusExponentialMovingAverage = timeseries02_monthly_log - exponentialDecayWeightedAverage\n",
    "timeseries.check_stationarity(datasetLogScaleMinusExponentialMovingAverage, window=12)"
   ]
  },
  {
   "cell_type": "code",
   "execution_count": null,
   "metadata": {},
   "outputs": [],
   "source": [
    "decomposition = seasonal_decompose(timeseries02_monthly_log) \n",
    "\n",
    "trend = decomposition.trend\n",
    "seasonal = decomposition.seasonal\n",
    "residual = decomposition.resid\n",
    "\n",
    "decomposedLogData = residual\n",
    "decomposedLogData.dropna(inplace=True)\n",
    "timeseries.check_stationarity(decomposedLogData, window=12)"
   ]
  },
  {
   "cell_type": "code",
   "execution_count": null,
   "metadata": {},
   "outputs": [],
   "source": [
    "warnings.filterwarnings(\"ignore\")\n",
    "\n",
    "arima_params = arima.get_arima_params(\n",
    "    p_values=range(0, 3),\n",
    "    d_values=range(0, 2),\n",
    "    q_values=range(0, 2))\n",
    "#print(len(arima_params))\n",
    "\n",
    "#arima.evaluate_models(timeseries02_monthly.values, arima_params)\n",
    "arima.evaluate_models(decomposedLogData.values, arima_params)"
   ]
  },
  {
   "cell_type": "code",
   "execution_count": null,
   "metadata": {},
   "outputs": [],
   "source": [
    "from statsmodels.tsa.arima_model import ARIMA\n",
    "from sklearn.metrics import mean_squared_error\n",
    "\n",
    "#X = timeseries02_monthly.values\n",
    "X = decomposedLogData.values\n",
    "\n",
    "size = int(len(X) * 0.66)\n",
    "train, test = X[0:size], X[size:len(X)]\n",
    "history = [x for x in train]\n",
    "predictions = list()\n",
    "\n",
    "\n",
    "model = ARIMA(history, order=(2, 1, 1))\n",
    "model_fit = model.fit(disp=0)\n",
    "#output = model_fit.forecast()\n",
    "forecast = model_fit.forecast(steps=len(test))[0]\n",
    "#print(forecast)\n",
    "#print(type(forecast))\n",
    "\n",
    "for yhat in forecast:\n",
    "    predictions.append(yhat)\n",
    "    obs = test[t]\n",
    "    #print('predicted=%f, expected=%f' % (yhat, obs))\n",
    "\n",
    "print(predictions)\n",
    "#print(len(predictions))\n",
    "#print(len(test))\n",
    "\n",
    "error = mean_squared_error(test, predictions)\n",
    "print('Test MSE: %.9f' % error)\n",
    "\n",
    "plt.figure(figsize=(20, 15))\n",
    "plt.plot(test, color='blue')\n",
    "plt.plot(predictions, color='red')\n",
    "plt.show()"
   ]
  }
 ],
 "metadata": {
  "colab": {
   "collapsed_sections": [],
   "name": "arima02",
   "provenance": [],
   "version": "0.3.2"
  },
  "kernelspec": {
   "display_name": "Python 3",
   "language": "python",
   "name": "python3"
  },
  "language_info": {
   "codemirror_mode": {
    "name": "ipython",
    "version": 3
   },
   "file_extension": ".py",
   "mimetype": "text/x-python",
   "name": "python",
   "nbconvert_exporter": "python",
   "pygments_lexer": "ipython3",
   "version": "3.6.5"
  }
 },
 "nbformat": 4,
 "nbformat_minor": 1
}
