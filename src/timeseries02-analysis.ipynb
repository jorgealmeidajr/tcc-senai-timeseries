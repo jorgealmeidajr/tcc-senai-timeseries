{
 "cells": [
  {
   "cell_type": "markdown",
   "metadata": {},
   "source": [
    "## Analise da serie temporal 02 - Cotacao do Fundo de Investimento de Renda Fixa"
   ]
  },
  {
   "cell_type": "code",
   "execution_count": null,
   "metadata": {},
   "outputs": [],
   "source": [
    "import pandas as pd\n",
    "import numpy as np\n",
    "\n",
    "from statsmodels.tsa.seasonal import seasonal_decompose\n",
    "\n",
    "# imports de modulos que estao definidos dentro do projeto\n",
    "import arima\n",
    "import timeseries\n",
    "\n",
    "import matplotlib.pyplot as plt\n",
    "%matplotlib inline"
   ]
  },
  {
   "cell_type": "code",
   "execution_count": null,
   "metadata": {},
   "outputs": [],
   "source": [
    "df_original = pd.read_csv('../data/fundo01-cotas-rendafixa.csv', header=0, encoding='iso-8859-1')\n",
    "df_original.head(5)"
   ]
  },
  {
   "cell_type": "code",
   "execution_count": null,
   "metadata": {},
   "outputs": [],
   "source": [
    "print(\"Descricao basica do dataframe original e seu conteudo: \\n\")\n",
    "arima.print_dataframe_info(df_original)"
   ]
  },
  {
   "cell_type": "code",
   "execution_count": null,
   "metadata": {},
   "outputs": [],
   "source": [
    "df2 = df_original.drop('Código', axis=1)\n",
    "df2 = df2.drop('Fundo', axis=1)\n",
    "df2 = df2.drop('Variação', axis=1)\n",
    "df2 = df2.drop('Captação', axis=1)\n",
    "df2 = df2.drop('Resgate', axis=1)\n",
    "df2 = df2.drop('PL', axis=1)\n",
    "df2 = df2.drop('Cotistas', axis=1)"
   ]
  },
  {
   "cell_type": "code",
   "execution_count": null,
   "metadata": {},
   "outputs": [],
   "source": [
    "print(\"Descricao do dataframe apos remover as colunas: \\n\")\n",
    "print_dataframe_info(df2)"
   ]
  },
  {
   "cell_type": "code",
   "execution_count": null,
   "metadata": {},
   "outputs": [],
   "source": [
    "df2['Data'] = pd.to_datetime(df2['Data'], format='%d/%m/%Y')\n",
    "df2.index = df2['Data']\n",
    "del df2['Data']"
   ]
  },
  {
   "cell_type": "code",
   "execution_count": null,
   "metadata": {},
   "outputs": [],
   "source": [
    "print(\"Descricao do dataframe apos converter as datas:\")\n",
    "print_dataframe_info(df2)"
   ]
  },
  {
   "cell_type": "code",
   "execution_count": null,
   "metadata": {},
   "outputs": [],
   "source": [
    "df2['Cota'] = df2['Cota'].apply(lambda x: float(x.replace(',', '.')))\n",
    "df2['Cota'] = df2['Cota'].astype(float)"
   ]
  },
  {
   "cell_type": "code",
   "execution_count": null,
   "metadata": {},
   "outputs": [],
   "source": [
    "print(\"Descricao do dataframe apos o processamento do valor da Cota:\")\n",
    "print_dataframe_info(df2)"
   ]
  },
  {
   "cell_type": "code",
   "execution_count": null,
   "metadata": {},
   "outputs": [],
   "source": [
    "#df2 = df2.sort_values('Data')\n",
    "df2 = df2.resample('D').ffill() # esse comando jah executa o sort\n",
    "\n",
    "print(\"Descricao do dataframe apos preencher as datas que faltam: \\n\")\n",
    "print_dataframe_info(df2)"
   ]
  },
  {
   "cell_type": "code",
   "execution_count": null,
   "metadata": {},
   "outputs": [],
   "source": [
    "print(df2['2011-01-01':'2012-01-01'])"
   ]
  },
  {
   "cell_type": "code",
   "execution_count": null,
   "metadata": {},
   "outputs": [],
   "source": [
    "df2['2011-01-01':'2012-01-01'].plot(figsize=(20, 15), linewidth=2, fontsize=15, style='b.')\n",
    "plt.grid(True)\n",
    "plt.xlabel('Ano', fontsize=15)"
   ]
  },
  {
   "cell_type": "code",
   "execution_count": null,
   "metadata": {
    "scrolled": false
   },
   "outputs": [],
   "source": [
    "df2.plot(figsize=(20, 15), linewidth=2, fontsize=15, style='b.')\n",
    "plt.grid(True)\n",
    "plt.xlabel('Ano', fontsize=15)"
   ]
  },
  {
   "cell_type": "code",
   "execution_count": null,
   "metadata": {},
   "outputs": [],
   "source": [
    "df3 = df2.resample('M')\n",
    "df3 = df3.mean()"
   ]
  },
  {
   "cell_type": "code",
   "execution_count": null,
   "metadata": {},
   "outputs": [],
   "source": [
    "print(\"Descricao do dataframe com valores mensais:\")\n",
    "print_dataframe_info(df3)"
   ]
  },
  {
   "cell_type": "code",
   "execution_count": null,
   "metadata": {},
   "outputs": [],
   "source": [
    "df3.plot(figsize=(20, 15), linewidth=2, fontsize=15, style='r-')\n",
    "plt.grid(True)\n",
    "plt.xlabel('Ano', fontsize=15)"
   ]
  }
 ],
 "metadata": {
  "kernelspec": {
   "display_name": "Python 3",
   "language": "python",
   "name": "python3"
  },
  "language_info": {
   "codemirror_mode": {
    "name": "ipython",
    "version": 3
   },
   "file_extension": ".py",
   "mimetype": "text/x-python",
   "name": "python",
   "nbconvert_exporter": "python",
   "pygments_lexer": "ipython3",
   "version": "3.6.5"
  }
 },
 "nbformat": 4,
 "nbformat_minor": 2
}
