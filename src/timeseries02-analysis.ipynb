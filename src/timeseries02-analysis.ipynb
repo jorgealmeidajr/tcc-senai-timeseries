{
 "cells": [
  {
   "cell_type": "code",
   "execution_count": 175,
   "metadata": {},
   "outputs": [],
   "source": [
    "import pandas as pd\n",
    "import numpy as np\n",
    "\n",
    "import matplotlib.pyplot as plt\n",
    "\n",
    "%matplotlib inline"
   ]
  },
  {
   "cell_type": "code",
   "execution_count": 176,
   "metadata": {},
   "outputs": [],
   "source": [
    "# definicao de funcoes utilitarias... TODO: colocar em um arquivo utilitario .py\n",
    "\n",
    "def print_dataframe_info(df):\n",
    "    #print(str(df.info()) + '\\n')\n",
    "    print('SHAPE: ' + str(df.shape) + '\\n')\n",
    "    print('DTYPES: ' + str(df.dtypes) + '\\n')\n",
    "    print('#' * 100)\n",
    "    print(str(df.head(5)) + '\\n')\n",
    "    print('#' * 100)\n",
    "    print(str(df.tail(5)))\n"
   ]
  },
  {
   "cell_type": "code",
   "execution_count": 177,
   "metadata": {},
   "outputs": [
    {
     "data": {
      "text/html": [
       "<div>\n",
       "<style scoped>\n",
       "    .dataframe tbody tr th:only-of-type {\n",
       "        vertical-align: middle;\n",
       "    }\n",
       "\n",
       "    .dataframe tbody tr th {\n",
       "        vertical-align: top;\n",
       "    }\n",
       "\n",
       "    .dataframe thead th {\n",
       "        text-align: right;\n",
       "    }\n",
       "</style>\n",
       "<table border=\"1\" class=\"dataframe\">\n",
       "  <thead>\n",
       "    <tr style=\"text-align: right;\">\n",
       "      <th></th>\n",
       "      <th>Código</th>\n",
       "      <th>Fundo</th>\n",
       "      <th>Data</th>\n",
       "      <th>Cota</th>\n",
       "      <th>Variação</th>\n",
       "      <th>Captação</th>\n",
       "      <th>Resgate</th>\n",
       "      <th>PL</th>\n",
       "      <th>Cotistas</th>\n",
       "    </tr>\n",
       "  </thead>\n",
       "  <tbody>\n",
       "    <tr>\n",
       "      <th>0</th>\n",
       "      <td>16689</td>\n",
       "      <td>101 AGGREGA FUNDO DE INVESTIMENTO RENDA FIXA C...</td>\n",
       "      <td>27/09/2018</td>\n",
       "      <td>1,94912523</td>\n",
       "      <td>-0,02%</td>\n",
       "      <td>R$ 0,00</td>\n",
       "      <td>R$ 0,00</td>\n",
       "      <td>R$ 1.092.046,09</td>\n",
       "      <td>1</td>\n",
       "    </tr>\n",
       "    <tr>\n",
       "      <th>1</th>\n",
       "      <td>16689</td>\n",
       "      <td>101 AGGREGA FUNDO DE INVESTIMENTO RENDA FIXA C...</td>\n",
       "      <td>26/09/2018</td>\n",
       "      <td>1,94957229</td>\n",
       "      <td>0,01%</td>\n",
       "      <td>R$ 0,00</td>\n",
       "      <td>R$ 1.909.295,48</td>\n",
       "      <td>R$ 1.092.296,56</td>\n",
       "      <td>1</td>\n",
       "    </tr>\n",
       "    <tr>\n",
       "      <th>2</th>\n",
       "      <td>16689</td>\n",
       "      <td>101 AGGREGA FUNDO DE INVESTIMENTO RENDA FIXA C...</td>\n",
       "      <td>25/09/2018</td>\n",
       "      <td>1,94943552</td>\n",
       "      <td>0,01%</td>\n",
       "      <td>R$ 0,00</td>\n",
       "      <td>R$ 0,00</td>\n",
       "      <td>R$ 3.001.381,47</td>\n",
       "      <td>2</td>\n",
       "    </tr>\n",
       "    <tr>\n",
       "      <th>3</th>\n",
       "      <td>16689</td>\n",
       "      <td>101 AGGREGA FUNDO DE INVESTIMENTO RENDA FIXA C...</td>\n",
       "      <td>24/09/2018</td>\n",
       "      <td>1,94926787</td>\n",
       "      <td>0,01%</td>\n",
       "      <td>R$ 0,00</td>\n",
       "      <td>R$ 0,00</td>\n",
       "      <td>R$ 3.001.123,36</td>\n",
       "      <td>2</td>\n",
       "    </tr>\n",
       "    <tr>\n",
       "      <th>4</th>\n",
       "      <td>16689</td>\n",
       "      <td>101 AGGREGA FUNDO DE INVESTIMENTO RENDA FIXA C...</td>\n",
       "      <td>21/09/2018</td>\n",
       "      <td>1,94910034</td>\n",
       "      <td>0,01%</td>\n",
       "      <td>R$ 0,00</td>\n",
       "      <td>R$ 0,00</td>\n",
       "      <td>R$ 3.000.865,43</td>\n",
       "      <td>2</td>\n",
       "    </tr>\n",
       "  </tbody>\n",
       "</table>\n",
       "</div>"
      ],
      "text/plain": [
       "   Código                                              Fundo        Data  \\\n",
       "0   16689  101 AGGREGA FUNDO DE INVESTIMENTO RENDA FIXA C...  27/09/2018   \n",
       "1   16689  101 AGGREGA FUNDO DE INVESTIMENTO RENDA FIXA C...  26/09/2018   \n",
       "2   16689  101 AGGREGA FUNDO DE INVESTIMENTO RENDA FIXA C...  25/09/2018   \n",
       "3   16689  101 AGGREGA FUNDO DE INVESTIMENTO RENDA FIXA C...  24/09/2018   \n",
       "4   16689  101 AGGREGA FUNDO DE INVESTIMENTO RENDA FIXA C...  21/09/2018   \n",
       "\n",
       "         Cota Variação Captação          Resgate               PL  Cotistas  \n",
       "0  1,94912523   -0,02%  R$ 0,00          R$ 0,00  R$ 1.092.046,09         1  \n",
       "1  1,94957229    0,01%  R$ 0,00  R$ 1.909.295,48  R$ 1.092.296,56         1  \n",
       "2  1,94943552    0,01%  R$ 0,00          R$ 0,00  R$ 3.001.381,47         2  \n",
       "3  1,94926787    0,01%  R$ 0,00          R$ 0,00  R$ 3.001.123,36         2  \n",
       "4  1,94910034    0,01%  R$ 0,00          R$ 0,00  R$ 3.000.865,43         2  "
      ]
     },
     "execution_count": 177,
     "metadata": {},
     "output_type": "execute_result"
    }
   ],
   "source": [
    "df_original = pd.read_csv('../data/fundo01-cotas-rendafixa.csv', header=0, encoding='iso-8859-1')\n",
    "df_original.head(5)"
   ]
  },
  {
   "cell_type": "code",
   "execution_count": 178,
   "metadata": {},
   "outputs": [
    {
     "name": "stdout",
     "output_type": "stream",
     "text": [
      "Descricao basica do dataframe original e seu conteudo: \n",
      "\n",
      "SHAPE: (1854, 9)\n",
      "\n",
      "DTYPES: Código       int64\n",
      "Fundo       object\n",
      "Data        object\n",
      "Cota        object\n",
      "Variação    object\n",
      "Captação    object\n",
      "Resgate     object\n",
      "PL          object\n",
      "Cotistas     int64\n",
      "dtype: object\n",
      "\n",
      "####################################################################################################\n",
      "   Código                                              Fundo        Data  \\\n",
      "0   16689  101 AGGREGA FUNDO DE INVESTIMENTO RENDA FIXA C...  27/09/2018   \n",
      "1   16689  101 AGGREGA FUNDO DE INVESTIMENTO RENDA FIXA C...  26/09/2018   \n",
      "2   16689  101 AGGREGA FUNDO DE INVESTIMENTO RENDA FIXA C...  25/09/2018   \n",
      "3   16689  101 AGGREGA FUNDO DE INVESTIMENTO RENDA FIXA C...  24/09/2018   \n",
      "4   16689  101 AGGREGA FUNDO DE INVESTIMENTO RENDA FIXA C...  21/09/2018   \n",
      "\n",
      "         Cota Variação Captação          Resgate               PL  Cotistas  \n",
      "0  1,94912523   -0,02%  R$ 0,00          R$ 0,00  R$ 1.092.046,09         1  \n",
      "1  1,94957229    0,01%  R$ 0,00  R$ 1.909.295,48  R$ 1.092.296,56         1  \n",
      "2  1,94943552    0,01%  R$ 0,00          R$ 0,00  R$ 3.001.381,47         2  \n",
      "3  1,94926787    0,01%  R$ 0,00          R$ 0,00  R$ 3.001.123,36         2  \n",
      "4  1,94910034    0,01%  R$ 0,00          R$ 0,00  R$ 3.000.865,43         2  \n",
      "\n",
      "####################################################################################################\n",
      "      Código                                              Fundo        Data  \\\n",
      "1849   16689  101 AGGREGA FUNDO DE INVESTIMENTO RENDA FIXA C...  20/05/2011   \n",
      "1850   16689  101 AGGREGA FUNDO DE INVESTIMENTO RENDA FIXA C...  19/05/2011   \n",
      "1851   16689  101 AGGREGA FUNDO DE INVESTIMENTO RENDA FIXA C...  18/05/2011   \n",
      "1852   16689  101 AGGREGA FUNDO DE INVESTIMENTO RENDA FIXA C...  17/05/2011   \n",
      "1853   16689  101 AGGREGA FUNDO DE INVESTIMENTO RENDA FIXA C...  16/05/2011   \n",
      "\n",
      "            Cota Variação         Captação  Resgate               PL  Cotistas  \n",
      "1849  1,00198626    0,05%          R$ 0,00  R$ 0,00  R$ 1.001.986,26         1  \n",
      "1850   1,0014938    0,05%          R$ 0,00  R$ 0,00  R$ 1.001.493,80         1  \n",
      "1851  1,00099603    0,05%          R$ 0,00  R$ 0,00  R$ 1.000.996,03         1  \n",
      "1852  1,00049882    0,05%          R$ 0,00  R$ 0,00  R$ 1.000.498,82         1  \n",
      "1853           1      NaN  R$ 1.000.000,00  R$ 0,00  R$ 1.000.000,00         1  \n"
     ]
    }
   ],
   "source": [
    "print(\"Descricao basica do dataframe original e seu conteudo: \\n\")\n",
    "print_dataframe_info(df_original)"
   ]
  },
  {
   "cell_type": "code",
   "execution_count": 179,
   "metadata": {},
   "outputs": [],
   "source": [
    "df2 = df_original.drop('Código', axis=1)\n",
    "df2 = df2.drop('Fundo', axis=1)\n",
    "df2 = df2.drop('Variação', axis=1)\n",
    "df2 = df2.drop('Captação', axis=1)\n",
    "df2 = df2.drop('Resgate', axis=1)\n",
    "df2 = df2.drop('PL', axis=1)\n",
    "df2 = df2.drop('Cotistas', axis=1)"
   ]
  },
  {
   "cell_type": "code",
   "execution_count": 180,
   "metadata": {},
   "outputs": [
    {
     "name": "stdout",
     "output_type": "stream",
     "text": [
      "Descricao do dataframe apos remover as colunas: \n",
      "\n",
      "SHAPE: (1854, 2)\n",
      "\n",
      "DTYPES: Data    object\n",
      "Cota    object\n",
      "dtype: object\n",
      "\n",
      "####################################################################################################\n",
      "         Data        Cota\n",
      "0  27/09/2018  1,94912523\n",
      "1  26/09/2018  1,94957229\n",
      "2  25/09/2018  1,94943552\n",
      "3  24/09/2018  1,94926787\n",
      "4  21/09/2018  1,94910034\n",
      "\n",
      "####################################################################################################\n",
      "            Data        Cota\n",
      "1849  20/05/2011  1,00198626\n",
      "1850  19/05/2011   1,0014938\n",
      "1851  18/05/2011  1,00099603\n",
      "1852  17/05/2011  1,00049882\n",
      "1853  16/05/2011           1\n"
     ]
    }
   ],
   "source": [
    "print(\"Descricao do dataframe apos remover as colunas: \\n\")\n",
    "print_dataframe_info(df2)"
   ]
  },
  {
   "cell_type": "code",
   "execution_count": 181,
   "metadata": {},
   "outputs": [],
   "source": [
    "df2['Data'] = pd.to_datetime(df2['Data'], format='%d/%m/%Y')\n",
    "df2.index = df2['Data']\n",
    "del df2['Data']"
   ]
  },
  {
   "cell_type": "code",
   "execution_count": 182,
   "metadata": {},
   "outputs": [
    {
     "name": "stdout",
     "output_type": "stream",
     "text": [
      "Descricao do dataframe apos converter as datas:\n",
      "SHAPE: (1854, 1)\n",
      "\n",
      "DTYPES: Cota    object\n",
      "dtype: object\n",
      "\n",
      "####################################################################################################\n",
      "                  Cota\n",
      "Data                  \n",
      "2018-09-27  1,94912523\n",
      "2018-09-26  1,94957229\n",
      "2018-09-25  1,94943552\n",
      "2018-09-24  1,94926787\n",
      "2018-09-21  1,94910034\n",
      "\n",
      "####################################################################################################\n",
      "                  Cota\n",
      "Data                  \n",
      "2011-05-20  1,00198626\n",
      "2011-05-19   1,0014938\n",
      "2011-05-18  1,00099603\n",
      "2011-05-17  1,00049882\n",
      "2011-05-16           1\n"
     ]
    }
   ],
   "source": [
    "print(\"Descricao do dataframe apos converter as datas:\")\n",
    "print_dataframe_info(df2)"
   ]
  },
  {
   "cell_type": "code",
   "execution_count": 183,
   "metadata": {},
   "outputs": [],
   "source": [
    "df2['Cota'] = df2['Cota'].apply(lambda x: float(x.replace(',', '.')))\n",
    "df2['Cota'] = df2['Cota'].astype(float)"
   ]
  },
  {
   "cell_type": "code",
   "execution_count": 184,
   "metadata": {},
   "outputs": [
    {
     "name": "stdout",
     "output_type": "stream",
     "text": [
      "Descricao do dataframe apos o processamento do valor da Cota:\n",
      "SHAPE: (1854, 1)\n",
      "\n",
      "DTYPES: Cota    float64\n",
      "dtype: object\n",
      "\n",
      "####################################################################################################\n",
      "                Cota\n",
      "Data                \n",
      "2018-09-27  1.949125\n",
      "2018-09-26  1.949572\n",
      "2018-09-25  1.949436\n",
      "2018-09-24  1.949268\n",
      "2018-09-21  1.949100\n",
      "\n",
      "####################################################################################################\n",
      "                Cota\n",
      "Data                \n",
      "2011-05-20  1.001986\n",
      "2011-05-19  1.001494\n",
      "2011-05-18  1.000996\n",
      "2011-05-17  1.000499\n",
      "2011-05-16  1.000000\n"
     ]
    }
   ],
   "source": [
    "print(\"Descricao do dataframe apos o processamento do valor da Cota:\")\n",
    "print_dataframe_info(df2)"
   ]
  },
  {
   "cell_type": "code",
   "execution_count": 186,
   "metadata": {},
   "outputs": [
    {
     "name": "stdout",
     "output_type": "stream",
     "text": [
      "Descricao do dataframe apos preencher as datas que faltam: \n",
      "\n",
      "SHAPE: (2692, 1)\n",
      "\n",
      "DTYPES: Cota    float64\n",
      "dtype: object\n",
      "\n",
      "####################################################################################################\n",
      "                Cota\n",
      "Data                \n",
      "2011-05-16  1.000000\n",
      "2011-05-17  1.000499\n",
      "2011-05-18  1.000996\n",
      "2011-05-19  1.001494\n",
      "2011-05-20  1.001986\n",
      "\n",
      "####################################################################################################\n",
      "                Cota\n",
      "Data                \n",
      "2018-09-23  1.949100\n",
      "2018-09-24  1.949268\n",
      "2018-09-25  1.949436\n",
      "2018-09-26  1.949572\n",
      "2018-09-27  1.949125\n"
     ]
    }
   ],
   "source": [
    "#df2 = df2.sort_values('Data')\n",
    "df2 = df2.resample('D').ffill() # esse comando jah executa o sort\n",
    "\n",
    "print(\"Descricao do dataframe apos preencher as datas que faltam: \\n\")\n",
    "print_dataframe_info(df2)"
   ]
  },
  {
   "cell_type": "code",
   "execution_count": 187,
   "metadata": {},
   "outputs": [
    {
     "name": "stdout",
     "output_type": "stream",
     "text": [
      "                Cota\n",
      "Data                \n",
      "2011-05-16  1.000000\n",
      "2011-05-17  1.000499\n",
      "2011-05-18  1.000996\n",
      "2011-05-19  1.001494\n",
      "2011-05-20  1.001986\n",
      "2011-05-21  1.001986\n",
      "2011-05-22  1.001986\n",
      "2011-05-23  1.002484\n",
      "2011-05-24  1.002984\n",
      "2011-05-25  1.003480\n",
      "2011-05-26  1.003984\n",
      "2011-05-27  1.004439\n",
      "2011-05-28  1.004439\n",
      "2011-05-29  1.004439\n",
      "2011-05-30  1.004947\n",
      "2011-05-31  1.005441\n",
      "2011-06-01  1.005942\n",
      "2011-06-02  1.006441\n",
      "2011-06-03  1.006947\n",
      "2011-06-04  1.006947\n",
      "2011-06-05  1.006947\n",
      "2011-06-06  1.007445\n",
      "2011-06-07  1.007674\n",
      "2011-06-08  1.008183\n",
      "2011-06-09  1.008692\n",
      "2011-06-10  1.009205\n",
      "2011-06-11  1.009205\n",
      "2011-06-12  1.009205\n",
      "2011-06-13  1.009719\n",
      "2011-06-14  1.010235\n",
      "...              ...\n",
      "2011-12-03  1.068437\n",
      "2011-12-04  1.068437\n",
      "2011-12-05  1.068928\n",
      "2011-12-06  1.069407\n",
      "2011-12-07  1.069900\n",
      "2011-12-08  1.070391\n",
      "2011-12-09  1.070883\n",
      "2011-12-10  1.070883\n",
      "2011-12-11  1.070883\n",
      "2011-12-12  1.071376\n",
      "2011-12-13  1.071867\n",
      "2011-12-14  1.072335\n",
      "2011-12-15  1.072802\n",
      "2011-12-16  1.073269\n",
      "2011-12-17  1.073269\n",
      "2011-12-18  1.073269\n",
      "2011-12-19  1.073736\n",
      "2011-12-20  1.074204\n",
      "2011-12-21  1.074673\n",
      "2011-12-22  1.075142\n",
      "2011-12-23  1.075611\n",
      "2011-12-24  1.075611\n",
      "2011-12-25  1.075611\n",
      "2011-12-26  1.076083\n",
      "2011-12-27  1.076550\n",
      "2011-12-28  1.077018\n",
      "2011-12-29  1.077487\n",
      "2011-12-30  1.077956\n",
      "2011-12-31  1.077956\n",
      "2012-01-01  1.077956\n",
      "\n",
      "[231 rows x 1 columns]\n"
     ]
    }
   ],
   "source": [
    "print(df2['2011-01-01':'2012-01-01'])"
   ]
  },
  {
   "cell_type": "code",
   "execution_count": 188,
   "metadata": {},
   "outputs": [
    {
     "data": {
      "text/plain": [
       "Text(0.5,0,'Ano')"
      ]
     },
     "execution_count": 188,
     "metadata": {},
     "output_type": "execute_result"
    },
    {
     "data": {
      "image/png": "[encoded data removed]",
      "text/plain": [
       "<Figure size 1440x1080 with 1 Axes>"
      ]
     },
     "metadata": {},
     "output_type": "display_data"
    }
   ],
   "source": [
    "df2['2011-01-01':'2012-01-01'].plot(figsize=(20, 15), linewidth=2, fontsize=15, style='b.')\n",
    "plt.grid(True)\n",
    "plt.xlabel('Ano', fontsize=15)"
   ]
  },
  {
   "cell_type": "code",
   "execution_count": 189,
   "metadata": {
    "scrolled": false
   },
   "outputs": [
    {
     "data": {
      "text/plain": [
       "Text(0.5,0,'Ano')"
      ]
     },
     "execution_count": 189,
     "metadata": {},
     "output_type": "execute_result"
    },
    {
     "data": {
      "image/png": "[encoded data removed]",
      "text/plain": [
       "<Figure size 1440x1080 with 1 Axes>"
      ]
     },
     "metadata": {},
     "output_type": "display_data"
    }
   ],
   "source": [
    "df2.plot(figsize=(20, 15), linewidth=2, fontsize=15, style='b.')\n",
    "plt.grid(True)\n",
    "plt.xlabel('Ano', fontsize=15)"
   ]
  },
  {
   "cell_type": "code",
   "execution_count": 190,
   "metadata": {},
   "outputs": [],
   "source": [
    "df3 = df2.resample('M')\n",
    "df3 = df3.mean()"
   ]
  },
  {
   "cell_type": "code",
   "execution_count": 191,
   "metadata": {},
   "outputs": [
    {
     "name": "stdout",
     "output_type": "stream",
     "text": [
      "Descricao do dataframe com valores mensais:\n",
      "SHAPE: (89, 1)\n",
      "\n",
      "DTYPES: Cota    float64\n",
      "dtype: object\n",
      "\n",
      "####################################################################################################\n",
      "                Cota\n",
      "Data                \n",
      "2011-05-31  1.002849\n",
      "2011-06-30  1.010794\n",
      "2011-07-31  1.021438\n",
      "2011-08-31  1.032847\n",
      "2011-09-30  1.042921\n",
      "\n",
      "####################################################################################################\n",
      "                Cota\n",
      "Data                \n",
      "2018-05-31  1.953070\n",
      "2018-06-30  1.943187\n",
      "2018-07-31  1.942140\n",
      "2018-08-31  1.945046\n",
      "2018-09-30  1.948308\n"
     ]
    }
   ],
   "source": [
    "print(\"Descricao do dataframe com valores mensais:\")\n",
    "print_dataframe_info(df3)"
   ]
  },
  {
   "cell_type": "code",
   "execution_count": 192,
   "metadata": {},
   "outputs": [
    {
     "data": {
      "text/plain": [
       "Text(0.5,0,'Ano')"
      ]
     },
     "execution_count": 192,
     "metadata": {},
     "output_type": "execute_result"
    },
    {
     "data": {
      "image/png": "[encoded data removed]",
      "text/plain": [
       "<Figure size 1440x1080 with 1 Axes>"
      ]
     },
     "metadata": {},
     "output_type": "display_data"
    }
   ],
   "source": [
    "df3.plot(figsize=(20, 15), linewidth=2, fontsize=15, style='r-')\n",
    "plt.grid(True)\n",
    "plt.xlabel('Ano', fontsize=15)"
   ]
  }
 ],
 "metadata": {
  "kernelspec": {
   "display_name": "Python 3",
   "language": "python",
   "name": "python3"
  },
  "language_info": {
   "codemirror_mode": {
    "name": "ipython",
    "version": 3
   },
   "file_extension": ".py",
   "mimetype": "text/x-python",
   "name": "python",
   "nbconvert_exporter": "python",
   "pygments_lexer": "ipython3",
   "version": "3.6.5"
  }
 },
 "nbformat": 4,
 "nbformat_minor": 2
}
