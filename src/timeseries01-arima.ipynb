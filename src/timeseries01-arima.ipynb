{
 "cells": [
  {
   "cell_type": "markdown",
   "metadata": {},
   "source": [
    "# ARIMA aplicado na serie temporal 01\n",
    "## Cotacao do Dolar em relacao ao Real"
   ]
  },
  {
   "cell_type": "code",
   "execution_count": null,
   "metadata": {},
   "outputs": [],
   "source": [
    "import pandas as pd\n",
    "import numpy as np\n",
    "import warnings\n",
    "\n",
    "from sklearn.metrics import mean_squared_error\n",
    "from statsmodels.tsa.arima_model import ARIMA\n",
    "\n",
    "# imports de modulos que estao definidos dentro do projeto\n",
    "import data\n",
    "import timeseries\n",
    "import arima\n",
    "\n",
    "import matplotlib.pyplot as plt\n",
    "%matplotlib inline"
   ]
  },
  {
   "cell_type": "code",
   "execution_count": null,
   "metadata": {},
   "outputs": [],
   "source": [
    "PORCENTAGEM: float = 0.86"
   ]
  },
  {
   "cell_type": "markdown",
   "metadata": {},
   "source": [
    "## Transformacao da serie temporal 'MENSAL com duas amostras'"
   ]
  },
  {
   "cell_type": "code",
   "execution_count": null,
   "metadata": {},
   "outputs": [],
   "source": [
    "df_monthly2 = data.load_timeseries01_monthly2()\n",
    "#timeseries.plot_timeserie(df_monthly2)"
   ]
  },
  {
   "cell_type": "code",
   "execution_count": null,
   "metadata": {},
   "outputs": [],
   "source": [
    "ts_transform = timeseries.ts_transform1(df_monthly2)\n",
    "#timeseries.plot_timeserie(ts_transform['ts_log'])"
   ]
  },
  {
   "cell_type": "code",
   "execution_count": null,
   "metadata": {},
   "outputs": [],
   "source": [
    "timeseries.check_stationarity(ts_transform['ts_log'], window=24)"
   ]
  },
  {
   "cell_type": "code",
   "execution_count": null,
   "metadata": {},
   "outputs": [],
   "source": [
    "#timeseries.plot_timeserie(ts_transform['ts_log_diff'])"
   ]
  },
  {
   "cell_type": "code",
   "execution_count": null,
   "metadata": {},
   "outputs": [],
   "source": [
    "timeseries.check_stationarity(ts_transform['ts_log_diff'], window=24)"
   ]
  },
  {
   "cell_type": "markdown",
   "metadata": {},
   "source": [
    "## ARIMA aplicado na serie temporal 'MENSAL com duas amostras'"
   ]
  },
  {
   "cell_type": "code",
   "execution_count": null,
   "metadata": {},
   "outputs": [],
   "source": [
    "train, test = arima.split_dataset(ts_transform['ts_log'], porcentagem=PORCENTAGEM, debug=True)\n",
    "timeseries.plot_train_and_test(train, test)"
   ]
  },
  {
   "cell_type": "code",
   "execution_count": null,
   "metadata": {},
   "outputs": [],
   "source": [
    "# melhores parametros encontrados no Grid Search\n",
    "arima_params = (0, 1, 1)\n",
    "\n",
    "model = ARIMA(train, order=arima_params)\n",
    "results_ARIMA = model.fit(disp=-1)\n",
    "\n",
    "train_size = int(len(ts_transform['ts_log_diff']) * PORCENTAGEM)\n",
    "ts_train = ts_transform['ts_log_diff'][0:train_size]\n",
    "\n",
    "plt.plot(ts_train.index.to_pydatetime(), ts_train.values)\n",
    "plt.plot(ts_train.index.to_pydatetime(), results_ARIMA.fittedvalues, color='red')\n",
    "plt.title('MSE: %.9f' % mean_squared_error(ts_train.values, results_ARIMA.fittedvalues.values))"
   ]
  },
  {
   "cell_type": "code",
   "execution_count": null,
   "metadata": {},
   "outputs": [],
   "source": [
    "predictions_ARIMA_diff = pd.Series(results_ARIMA.fittedvalues, copy=True)\n",
    "\n",
    "predictions_ARIMA_diff_cumsum = predictions_ARIMA_diff.cumsum()\n",
    "predictions_ARIMA_log = pd.Series(train.iloc[0], index=train.index)\n",
    "predictions_ARIMA_log = predictions_ARIMA_log.add(predictions_ARIMA_diff_cumsum, fill_value=0)\n",
    "\n",
    "predictions_ARIMA = np.exp(predictions_ARIMA_log)\n",
    "predictions_ARIMA = predictions_ARIMA.apply(lambda x: x*1.8)\n",
    "predictions_ARIMA = predictions_ARIMA[1:]\n",
    "#print(len(predictions_ARIMA))\n",
    "#print(predictions_ARIMA)\n",
    "\n",
    "train_size = int(len(df_monthly2) * PORCENTAGEM)\n",
    "ts_train = df_monthly2[1:train_size]\n",
    "#print(len(ts_train))\n",
    "#print(ts_train)\n",
    "\n",
    "plt.plot(ts_train.index.to_pydatetime(), ts_train.values)\n",
    "plt.plot(ts_train.index.to_pydatetime(), predictions_ARIMA.values)\n",
    "#plt.title('RMSE: %.9f' % np.sqrt(sum((predictions_ARIMA - ts_train)**2) / len(ts_train)))\n",
    "plt.title('MSE: %.9f'% mean_squared_error(ts_train.values, predictions_ARIMA.values))"
   ]
  },
  {
   "cell_type": "code",
   "execution_count": null,
   "metadata": {},
   "outputs": [],
   "source": [
    "predictions = list()\n",
    "historical = list()\n",
    "\n",
    "model = ARIMA(train, order=arima_params)\n",
    "model_fit = model.fit(disp=0)\n",
    "\n",
    "t = 0\n",
    "for yhat in forecast:\n",
    "    predicted = np.exp(float(yhat))\n",
    "    predictions.append(predicted)\n",
    "    \n",
    "    observed =  np.exp(test['rate'][t])\n",
    "    historical.append(observed)\n",
    "    print('Predicted = %.9f, Expected = %.9f' % (predicted, observed))\n",
    "    t += 1\n",
    "\n",
    "error = mean_squared_error(historical, predictions)\n",
    "print('Test MSE: %.9f' % error)\n",
    "\n",
    "plt.plot(historical)\n",
    "plt.plot(predictions, color='red')\n",
    "plt.show()"
   ]
  },
  {
   "cell_type": "markdown",
   "metadata": {},
   "source": [
    "## Transformacao da serie temporal 'MENSAL'"
   ]
  },
  {
   "cell_type": "code",
   "execution_count": null,
   "metadata": {},
   "outputs": [],
   "source": [
    "df_monthly = data.load_timeseries01_monthly()\n",
    "#timeseries.plot_timeserie(df_monthly)"
   ]
  },
  {
   "cell_type": "code",
   "execution_count": null,
   "metadata": {},
   "outputs": [],
   "source": [
    "ts_transform = timeseries.ts_transform1(df_monthly)\n",
    "timeseries.plot_timeserie(ts_transform['ts_log'])"
   ]
  },
  {
   "cell_type": "code",
   "execution_count": null,
   "metadata": {},
   "outputs": [],
   "source": [
    "timeseries.check_stationarity(ts_transform['ts_log'], window=12)"
   ]
  },
  {
   "cell_type": "code",
   "execution_count": null,
   "metadata": {},
   "outputs": [],
   "source": [
    "timeseries.plot_timeserie(ts_transform['ts_log_diff'])"
   ]
  },
  {
   "cell_type": "code",
   "execution_count": null,
   "metadata": {},
   "outputs": [],
   "source": [
    "timeseries.check_stationarity(ts_transform['ts_log_diff'], window=12)"
   ]
  },
  {
   "cell_type": "markdown",
   "metadata": {},
   "source": []
  },
  {
   "cell_type": "code",
   "execution_count": null,
   "metadata": {},
   "outputs": [],
   "source": []
  },
  {
   "cell_type": "code",
   "execution_count": null,
   "metadata": {},
   "outputs": [],
   "source": []
  },
  {
   "cell_type": "code",
   "execution_count": null,
   "metadata": {},
   "outputs": [],
   "source": []
  },
  {
   "cell_type": "markdown",
   "metadata": {},
   "source": [
    "## ARIMA aplicado na serie temporal 'MENSAL'"
   ]
  },
  {
   "cell_type": "code",
   "execution_count": null,
   "metadata": {},
   "outputs": [],
   "source": [
    "# teste com 150 combinacoes de parametros\n",
    "# melhores parametros encontrados no Grid Search\n",
    "# Melhores parametros: ARIMA(0, 1, 1) MSE=0.001153267\n",
    "arima_params = (0, 1, 1)"
   ]
  },
  {
   "cell_type": "code",
   "execution_count": null,
   "metadata": {},
   "outputs": [],
   "source": []
  }
 ],
 "metadata": {
  "kernelspec": {
   "display_name": "Python 3",
   "language": "python",
   "name": "python3"
  },
  "language_info": {
   "codemirror_mode": {
    "name": "ipython",
    "version": 3
   },
   "file_extension": ".py",
   "mimetype": "text/x-python",
   "name": "python",
   "nbconvert_exporter": "python",
   "pygments_lexer": "ipython3",
   "version": "3.6.5"
  }
 },
 "nbformat": 4,
 "nbformat_minor": 2
}
