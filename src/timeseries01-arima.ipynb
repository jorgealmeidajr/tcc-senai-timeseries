{
 "cells": [
  {
   "cell_type": "markdown",
   "metadata": {},
   "source": [
    "## ARIMA aplicado na serie temporal 01 - Cotacao do Dolar em relacao ao Real"
   ]
  },
  {
   "cell_type": "markdown",
   "metadata": {},
   "source": [
    "### Carregando os dados da serie temporal 01"
   ]
  },
  {
   "cell_type": "code",
   "execution_count": 1,
   "metadata": {},
   "outputs": [],
   "source": [
    "import pandas as pd\n",
    "import numpy as np\n",
    "import warnings\n",
    "\n",
    "from sklearn.metrics import mean_squared_error\n",
    "from statsmodels.tsa.arima_model import ARIMA\n",
    "\n",
    "# imports de modulos que estao definidos dentro do projeto\n",
    "import data\n",
    "import timeseries\n",
    "import arima\n",
    "\n",
    "import matplotlib.pyplot as plt\n",
    "%matplotlib inline"
   ]
  },
  {
   "cell_type": "code",
   "execution_count": 2,
   "metadata": {},
   "outputs": [],
   "source": [
    "df_daily = data.load_timeseries01_daily()\n",
    "#timeseries.plot_timeserie(df_daily)"
   ]
  },
  {
   "cell_type": "code",
   "execution_count": 3,
   "metadata": {},
   "outputs": [],
   "source": [
    "df_monthly = data.load_timeseries01_monthly()\n",
    "#timeseries.plot_timeserie(df_monthly)"
   ]
  },
  {
   "cell_type": "markdown",
   "metadata": {},
   "source": [
    "### Transformacao da serie temporal DIARIA"
   ]
  },
  {
   "cell_type": "code",
   "execution_count": 4,
   "metadata": {},
   "outputs": [],
   "source": [
    "log_df_daily = np.log(df_daily)\n",
    "#timeseries.plot_timeserie(log_df_daily)"
   ]
  },
  {
   "cell_type": "code",
   "execution_count": 5,
   "metadata": {},
   "outputs": [
    {
     "data": {
      "image/png": "[encoded data removed]",
      "text/plain": [
       "<Figure size 432x288 with 1 Axes>"
      ]
     },
     "metadata": {},
     "output_type": "display_data"
    },
    {
     "name": "stdout",
     "output_type": "stream",
     "text": [
      "Results of Dickey-Fuller Test:\n",
      "[FALHA] Test Statistic (-1.128302) > Critical Value 1 (-3.431348)\n",
      "[FALHA] Test Statistic (-1.128302) > Critical Value 5 (-2.861981)\n",
      "[FALHA] Test Statistic (-1.128302) > Critical Value 10 (-2.567005)\n",
      "[FALHA] p-value (0.703655) > 0.05\n"
     ]
    }
   ],
   "source": [
    "timeseries.check_stationarity(log_df_daily, window=365)"
   ]
  },
  {
   "cell_type": "code",
   "execution_count": null,
   "metadata": {},
   "outputs": [],
   "source": [
    "log_df_daily_diff = log_df_daily - log_df_daily.shift()\n",
    "log_df_daily_diff.dropna(inplace=True)\n",
    "#timeseries.plot_timeserie(log_df_daily_diff)"
   ]
  },
  {
   "cell_type": "code",
   "execution_count": null,
   "metadata": {},
   "outputs": [],
   "source": [
    "timeseries.check_stationarity(log_df_daily_diff, window=365)"
   ]
  },
  {
   "cell_type": "markdown",
   "metadata": {},
   "source": [
    "### Transformacao da serie temporal MENSAL"
   ]
  },
  {
   "cell_type": "code",
   "execution_count": null,
   "metadata": {},
   "outputs": [],
   "source": [
    "log_df_monthly = np.log(df_monthly)\n",
    "#timeseries.plot_timeserie(log_df_monthly)"
   ]
  },
  {
   "cell_type": "code",
   "execution_count": null,
   "metadata": {},
   "outputs": [],
   "source": [
    "timeseries.check_stationarity(log_df_monthly, window=12)"
   ]
  },
  {
   "cell_type": "code",
   "execution_count": null,
   "metadata": {},
   "outputs": [],
   "source": [
    "log_df_monthly_diff = log_df_monthly - log_df_monthly.shift()\n",
    "log_df_monthly_diff.dropna(inplace=True)\n",
    "#timeseries.plot_timeserie(log_df_monthly_diff)"
   ]
  },
  {
   "cell_type": "code",
   "execution_count": null,
   "metadata": {},
   "outputs": [],
   "source": [
    "timeseries.check_stationarity(log_df_monthly_diff, window=12)"
   ]
  },
  {
   "cell_type": "markdown",
   "metadata": {},
   "source": [
    "### ARIMA aplicado na serie temporal DIARIA"
   ]
  },
  {
   "cell_type": "code",
   "execution_count": null,
   "metadata": {},
   "outputs": [],
   "source": [
    "# teste com 150 combinacoes de parametros\n",
    "# melhores parametros encontrados no Grid Search\n",
    "arima_params = (0, 1, 1)"
   ]
  },
  {
   "cell_type": "code",
   "execution_count": null,
   "metadata": {},
   "outputs": [],
   "source": [
    "X = log_df_daily_diff\n",
    "size = int(len(X) * 0.66)\n",
    "train, test = X[0:size], X[size:len(X)]\n",
    "\n",
    "plt.plot(train, label='train', color='blue')\n",
    "plt.plot(test, label='test', color='red')\n",
    "plt.legend(loc='upper left')"
   ]
  },
  {
   "cell_type": "code",
   "execution_count": null,
   "metadata": {},
   "outputs": [],
   "source": [
    "# modelo ARIMA aplicado aos dados de treinamento\n",
    "model = ARIMA(log_df_daily, order=arima_params)\n",
    "results_ARIMA = model.fit(disp=False)\n",
    "\n",
    "plt.plot(train, label='train', color='blue')\n",
    "plt.plot(results_ARIMA.fittedvalues[0:size], label='ARIMA', color='red')\n",
    "plt.legend(loc='upper left')\n",
    "plt.title('MSE: %.9f'% mean_squared_error(log_df_daily[0:size].values, results_ARIMA.fittedvalues[0:size].values))"
   ]
  },
  {
   "cell_type": "code",
   "execution_count": null,
   "metadata": {},
   "outputs": [],
   "source": [
    "predictions_ARIMA_diff = pd.Series(results_ARIMA.fittedvalues, copy=True)\n",
    "\n",
    "predictions_ARIMA_diff_cumsum = predictions_ARIMA_diff.cumsum()\n",
    "\n",
    "predictions_ARIMA_log = pd.Series(log_df_daily.iloc[0], index=log_df_daily.index)\n",
    "predictions_ARIMA_log = predictions_ARIMA_log.add(predictions_ARIMA_diff_cumsum, fill_value=0)\n",
    "\n",
    "predictions_ARIMA = np.exp(predictions_ARIMA_log)\n",
    "#predictions_ARIMA = predictions_ARIMA.apply(lambda x: x*1.5) # # #\n",
    "\n",
    "rates = []\n",
    "for row_index, row in df_daily.iterrows():\n",
    "    rates.append(row[0])\n",
    "\n",
    "t = pd.Series(data=rates, index=df_daily.index, copy=True)"
   ]
  },
  {
   "cell_type": "code",
   "execution_count": null,
   "metadata": {},
   "outputs": [],
   "source": [
    "# previsao em cima dos dados de teste\n",
    "teste = t[size:len(X)]\n",
    "previsao = predictions_ARIMA[size:len(X)]\n",
    "\n",
    "plt.plot(teste.index.to_pydatetime(), teste.values, label='test', color='blue')\n",
    "plt.plot(teste.index.to_pydatetime(), previsao.values, label='ARIMA', color='red')\n",
    "plt.title('MSE: %.9f'% mean_squared_error(teste.values, previsao.values))"
   ]
  },
  {
   "cell_type": "code",
   "execution_count": null,
   "metadata": {},
   "outputs": [],
   "source": []
  },
  {
   "cell_type": "markdown",
   "metadata": {},
   "source": [
    "### ARIMA aplicado na serie temporal MENSAL"
   ]
  },
  {
   "cell_type": "code",
   "execution_count": null,
   "metadata": {},
   "outputs": [],
   "source": [
    "# teste com 150 combinacoes de parametros\n",
    "# melhores parametros encontrados no Grid Search\n",
    "# Melhores parametros: ARIMA(0, 1, 1) MSE=0.001153267\n",
    "arima_params = (0, 1, 1)"
   ]
  },
  {
   "cell_type": "code",
   "execution_count": null,
   "metadata": {},
   "outputs": [],
   "source": [
    "#X = log_df_monthly_diff\n",
    "X = log_df_monthly\n",
    "size = int(len(X) * 0.66)\n",
    "train, test = X[0:size], X[size:len(X)]\n",
    "\n",
    "plt.plot(train, label='train', color='blue')\n",
    "plt.plot(test, label='test', color='red')\n",
    "plt.legend(loc='upper left')"
   ]
  },
  {
   "cell_type": "code",
   "execution_count": null,
   "metadata": {},
   "outputs": [],
   "source": [
    "# modelo ARIMA aplicado aos dados de treinamento\n",
    "#model = ARIMA(log_df_monthly, order=arima_params)\n",
    "model = ARIMA(train, order=arima_params)\n",
    "results_ARIMA = model.fit(disp=False)\n",
    "\n",
    "plt.plot(train[1:], label='train', color='blue')\n",
    "plt.plot(results_ARIMA.fittedvalues, label='ARIMA', color='red')\n",
    "plt.legend(loc='upper left')\n",
    "plt.title('MSE: %.9f'% mean_squared_error(train[1:].values, results_ARIMA.fittedvalues.values))"
   ]
  },
  {
   "cell_type": "code",
   "execution_count": null,
   "metadata": {},
   "outputs": [],
   "source": [
    "predictions_ARIMA_diff = pd.Series(results_ARIMA.fittedvalues, copy=True)\n",
    "\n",
    "#predictions_ARIMA_diff_cumsum = predictions_ARIMA_diff.cumsum()\n",
    "\n",
    "#predictions_ARIMA_log = pd.Series(log_df_monthly.iloc[0], index=log_df_monthly.index)\n",
    "#predictions_ARIMA_log = predictions_ARIMA_log.add(predictions_ARIMA_diff_cumsum, fill_value=0)\n",
    "\n",
    "#predictions_ARIMA = np.exp(predictions_ARIMA_log)\n",
    "predictions_ARIMA = np.exp(predictions_ARIMA_diff)\n",
    "#predictions_ARIMA = predictions_ARIMA.apply(lambda x: x*1.6) # # #\n",
    "\n",
    "rates = []\n",
    "for row_index, row in df_monthly.iterrows():\n",
    "    rates.append(row[0])\n",
    "\n",
    "t = pd.Series(data=rates, index=df_monthly.index, copy=True)"
   ]
  },
  {
   "cell_type": "code",
   "execution_count": null,
   "metadata": {},
   "outputs": [],
   "source": [
    "# previsao em cima dos dados de teste\n",
    "teste = t[size:len(X)]\n",
    "previsao = predictions_ARIMA[size:len(X)]\n",
    "\n",
    "plt.plot(teste.index.to_pydatetime(), teste.values, label='test', color='blue')\n",
    "plt.plot(teste.index.to_pydatetime(), previsao.values, label='ARIMA', color='red')\n",
    "#plt.title('MSE: %.9f'% mean_squared_error(teste.values, previsao.values))"
   ]
  },
  {
   "cell_type": "code",
   "execution_count": null,
   "metadata": {},
   "outputs": [],
   "source": []
  }
 ],
 "metadata": {
  "kernelspec": {
   "display_name": "Python 3",
   "language": "python",
   "name": "python3"
  },
  "language_info": {
   "codemirror_mode": {
    "name": "ipython",
    "version": 3
   },
   "file_extension": ".py",
   "mimetype": "text/x-python",
   "name": "python",
   "nbconvert_exporter": "python",
   "pygments_lexer": "ipython3",
   "version": "3.6.5"
  }
 },
 "nbformat": 4,
 "nbformat_minor": 2
}
