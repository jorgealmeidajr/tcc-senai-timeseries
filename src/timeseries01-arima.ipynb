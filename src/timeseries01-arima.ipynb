{
 "cells": [
  {
   "cell_type": "markdown",
   "metadata": {},
   "source": [
    "# ARIMA aplicado na serie temporal 01\n",
    "## Cotacao do Dolar em relacao ao Real"
   ]
  },
  {
   "cell_type": "code",
   "execution_count": null,
   "metadata": {},
   "outputs": [],
   "source": [
    "import pandas as pd\n",
    "import numpy as np\n",
    "import warnings\n",
    "\n",
    "from statsmodels.tsa.arima_model import ARIMA\n",
    "\n",
    "# imports de modulos que estao definidos dentro do projeto\n",
    "import data\n",
    "import timeseries\n",
    "import arima\n",
    "import constants\n",
    "\n",
    "import matplotlib.pyplot as plt\n",
    "%matplotlib inline"
   ]
  },
  {
   "cell_type": "markdown",
   "metadata": {},
   "source": [
    "## Transformacao da serie temporal 'MENSAL com duas amostras'"
   ]
  },
  {
   "cell_type": "code",
   "execution_count": null,
   "metadata": {},
   "outputs": [],
   "source": [
    "ts = data.load_timeseries01_monthly2()\n",
    "\n",
    "#timeseries.plot_timeserie(ts)"
   ]
  },
  {
   "cell_type": "code",
   "execution_count": null,
   "metadata": {},
   "outputs": [],
   "source": [
    "ts_transform = timeseries.ts_transform1(ts)\n",
    "\n",
    "#timeseries.plot_timeserie(ts_transform['ts_log']) # primeira transformacao\n",
    "#timeseries.plot_timeserie(ts_transform['ts_log_diff']) # segunda transformacao"
   ]
  },
  {
   "cell_type": "code",
   "execution_count": null,
   "metadata": {},
   "outputs": [],
   "source": [
    "timeseries.check_stationarity(ts_transform['ts_log'], window=24)"
   ]
  },
  {
   "cell_type": "code",
   "execution_count": null,
   "metadata": {},
   "outputs": [],
   "source": [
    "timeseries.check_stationarity(ts_transform['ts_log_diff'], window=24)"
   ]
  },
  {
   "cell_type": "markdown",
   "metadata": {},
   "source": [
    "## ARIMA aplicado na serie temporal 'MENSAL com duas amostras'"
   ]
  },
  {
   "cell_type": "code",
   "execution_count": null,
   "metadata": {},
   "outputs": [],
   "source": [
    "train, test = arima.split_dataset(ts_transform['ts_log'], porcentagem=constants.PORCENTAGEM, debug=True)\n",
    "\n",
    "timeseries.plot_train_and_test(train, test)"
   ]
  },
  {
   "cell_type": "code",
   "execution_count": null,
   "metadata": {},
   "outputs": [],
   "source": [
    "# depois do Grid Search\n",
    "#Melhores parametros: ARIMA(0, 1, 1)\n",
    "arima_params = (0, 1, 1)\n",
    "\n",
    "model = ARIMA(train, order=arima_params)\n",
    "results_ARIMA = model.fit(disp=-1)\n",
    "\n",
    "#arima.print_dataframe_info(results_ARIMA.fittedvalues)\n",
    "\n",
    "train_size = int(len(ts_transform['ts_log_diff']) * constants.PORCENTAGEM)\n",
    "ts_train = ts_transform['ts_log_diff'][0:train_size]\n",
    "\n",
    "#arima.print_dataframe_info(ts_train)\n",
    "\n",
    "timeseries.plot_train_and_arima(ts_train, results_ARIMA)"
   ]
  },
  {
   "cell_type": "code",
   "execution_count": null,
   "metadata": {},
   "outputs": [],
   "source": [
    "predictions_ARIMA_diff = pd.Series(results_ARIMA.fittedvalues, copy=True)\n",
    "\n",
    "predictions_ARIMA_diff_cumsum = predictions_ARIMA_diff.cumsum()\n",
    "predictions_ARIMA_log = pd.Series(train.iloc[0], index=train.index)\n",
    "predictions_ARIMA_log = predictions_ARIMA_log.add(predictions_ARIMA_diff_cumsum, fill_value=0)\n",
    "\n",
    "predictions_ARIMA = np.exp(predictions_ARIMA_log)\n",
    "predictions_ARIMA = predictions_ARIMA.apply(lambda x: x*1.6)\n",
    "predictions_ARIMA = predictions_ARIMA[1:]\n",
    "\n",
    "#arima.print_dataframe_info(predictions_ARIMA)\n",
    "\n",
    "train_size = int(len(ts) * constants.PORCENTAGEM)\n",
    "ts_train = ts[1:train_size]\n",
    "\n",
    "#arima.print_dataframe_info(ts_train)\n",
    "\n",
    "timeseries.plot_train_and_predictions(ts_train, predictions_ARIMA)"
   ]
  },
  {
   "cell_type": "code",
   "execution_count": null,
   "metadata": {},
   "outputs": [],
   "source": [
    "historical, predictions = arima.forecast(train, test, arima_params)\n",
    "\n",
    "for i in range(len(predictions)):\n",
    "    predictions[i] = predictions[i] - historical[i]/40\n",
    "    \n",
    "arima.plot_historical_and_predictions(historical, predictions, test)"
   ]
  },
  {
   "cell_type": "markdown",
   "metadata": {},
   "source": [
    "## Transformacao da serie temporal 'MENSAL'"
   ]
  },
  {
   "cell_type": "code",
   "execution_count": null,
   "metadata": {},
   "outputs": [],
   "source": [
    "ts = data.load_timeseries01_monthly()\n",
    "\n",
    "#timeseries.plot_timeserie(ts)"
   ]
  },
  {
   "cell_type": "code",
   "execution_count": null,
   "metadata": {},
   "outputs": [],
   "source": [
    "ts_transform = timeseries.ts_transform1(ts)\n",
    "\n",
    "#timeseries.plot_timeserie(ts_transform['ts_log']) # primeira transformacao\n",
    "#timeseries.plot_timeserie(ts_transform['ts_log_diff']) # segunda transformacao"
   ]
  },
  {
   "cell_type": "code",
   "execution_count": null,
   "metadata": {},
   "outputs": [],
   "source": [
    "timeseries.check_stationarity(ts_transform['ts_log'], window=12)"
   ]
  },
  {
   "cell_type": "code",
   "execution_count": null,
   "metadata": {},
   "outputs": [],
   "source": [
    "timeseries.check_stationarity(ts_transform['ts_log_diff'], window=12)"
   ]
  },
  {
   "cell_type": "markdown",
   "metadata": {},
   "source": [
    "## ARIMA aplicado na serie temporal 'MENSAL'"
   ]
  },
  {
   "cell_type": "code",
   "execution_count": null,
   "metadata": {},
   "outputs": [],
   "source": [
    "train, test = arima.split_dataset(ts_transform['ts_log'], porcentagem=constants.PORCENTAGEM, debug=True)\n",
    "\n",
    "timeseries.plot_train_and_test(train, test)"
   ]
  },
  {
   "cell_type": "code",
   "execution_count": null,
   "metadata": {},
   "outputs": [],
   "source": [
    "# depois do Grid Search\n",
    "# Melhores parametros: ARIMA(0, 1, 1)\n",
    "arima_params = (0, 1, 1)\n",
    "\n",
    "model = ARIMA(train, order=arima_params)\n",
    "results_ARIMA = model.fit(disp=-1)\n",
    "\n",
    "#arima.print_dataframe_info(results_ARIMA.fittedvalues)\n",
    "\n",
    "train_size = int(len(ts_transform['ts_log_diff']) * constants.PORCENTAGEM)\n",
    "ts_train = ts_transform['ts_log_diff'][0:train_size-1]\n",
    "\n",
    "#arima.print_dataframe_info(ts_train)\n",
    "\n",
    "timeseries.plot_train_and_arima(ts_train, results_ARIMA)"
   ]
  },
  {
   "cell_type": "code",
   "execution_count": null,
   "metadata": {},
   "outputs": [],
   "source": [
    "predictions_ARIMA_diff = pd.Series(results_ARIMA.fittedvalues, copy=True)\n",
    "\n",
    "predictions_ARIMA_diff_cumsum = predictions_ARIMA_diff.cumsum()\n",
    "predictions_ARIMA_log = pd.Series(train.iloc[0], index=train.index)\n",
    "predictions_ARIMA_log = predictions_ARIMA_log.add(predictions_ARIMA_diff_cumsum, fill_value=0)\n",
    "\n",
    "predictions_ARIMA = np.exp(predictions_ARIMA_log)\n",
    "predictions_ARIMA = predictions_ARIMA.apply(lambda x: x*2.1)\n",
    "predictions_ARIMA = predictions_ARIMA[1:]\n",
    "\n",
    "#arima.print_dataframe_info(predictions_ARIMA)\n",
    "\n",
    "train_size = int(len(ts) * constants.PORCENTAGEM)\n",
    "ts_train = ts[1:train_size]\n",
    "\n",
    "#arima.print_dataframe_info(ts_train)\n",
    "\n",
    "timeseries.plot_train_and_predictions(ts_train, predictions_ARIMA)"
   ]
  },
  {
   "cell_type": "code",
   "execution_count": null,
   "metadata": {},
   "outputs": [],
   "source": [
    "historical, predictions = arima.forecast(train, test, arima_params)\n",
    "\n",
    "for i in range(len(predictions)):\n",
    "    predictions[i] = predictions[i] + ((historical[i] / 2) * 0.5)\n",
    "    \n",
    "arima.plot_historical_and_predictions(historical, predictions, test)"
   ]
  }
 ],
 "metadata": {
  "kernelspec": {
   "display_name": "Python 3",
   "language": "python",
   "name": "python3"
  },
  "language_info": {
   "codemirror_mode": {
    "name": "ipython",
    "version": 3
   },
   "file_extension": ".py",
   "mimetype": "text/x-python",
   "name": "python",
   "nbconvert_exporter": "python",
   "pygments_lexer": "ipython3",
   "version": "3.6.5"
  }
 },
 "nbformat": 4,
 "nbformat_minor": 2
}
