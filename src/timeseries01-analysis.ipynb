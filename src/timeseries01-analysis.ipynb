{
 "cells": [
  {
   "cell_type": "markdown",
   "metadata": {},
   "source": [
    "# Analise da serie temporal 01 - Cotacao do Dolar em relacao ao Real"
   ]
  },
  {
   "cell_type": "code",
   "execution_count": 1,
   "metadata": {},
   "outputs": [],
   "source": [
    "import pandas as pd\n",
    "import numpy as np\n",
    "\n",
    "from statsmodels.tsa.seasonal import seasonal_decompose\n",
    "\n",
    "# imports de modulos que estao definidos dentro do projeto\n",
    "import arima\n",
    "import timeseries\n",
    "\n",
    "import matplotlib.pyplot as plt\n",
    "%matplotlib inline"
   ]
  },
  {
   "cell_type": "code",
   "execution_count": 2,
   "metadata": {},
   "outputs": [],
   "source": [
    "df_original = pd.read_csv('../output/timeseries01.csv', header=0, names=['date', 'rate'])\n",
    "\n",
    "#arima.print_dataframe_info(df_original)"
   ]
  },
  {
   "cell_type": "markdown",
   "metadata": {},
   "source": [
    "## Obtendo a serie temporal DIARIA"
   ]
  },
  {
   "cell_type": "code",
   "execution_count": 3,
   "metadata": {},
   "outputs": [],
   "source": [
    "df_daily = df_original.copy()\n",
    "df_daily['date'] = pd.to_datetime(df_daily['date'])\n",
    "df_daily = df_daily.set_index('date')\n",
    "\n",
    "#arima.print_dataframe_info(df_daily)"
   ]
  },
  {
   "cell_type": "code",
   "execution_count": 4,
   "metadata": {},
   "outputs": [],
   "source": [
    "# esse comando preenche as datas que estao faltando\n",
    "df_daily = df_daily.resample('D').ffill()\n",
    "\n",
    "#arima.print_dataframe_info(df_daily)"
   ]
  },
  {
   "cell_type": "code",
   "execution_count": 5,
   "metadata": {},
   "outputs": [
    {
     "name": "stdout",
     "output_type": "stream",
     "text": [
      "[FALHA] Existe valores nao definidos no dataframe\n"
     ]
    }
   ],
   "source": [
    "df_daily = df_daily.replace(0, np.nan)\n",
    "df_daily = df_daily.replace('.', np.nan)\n",
    "\n",
    "timeseries.df_has_any_null(df_daily)"
   ]
  },
  {
   "cell_type": "code",
   "execution_count": 6,
   "metadata": {},
   "outputs": [
    {
     "name": "stdout",
     "output_type": "stream",
     "text": [
      "[SUCESSO] Todos os valores estao definidos no dataframe\n"
     ]
    }
   ],
   "source": [
    "df_daily = df_daily.fillna(method='ffill')\n",
    "\n",
    "timeseries.df_has_any_null(df_daily)"
   ]
  },
  {
   "cell_type": "code",
   "execution_count": null,
   "metadata": {},
   "outputs": [],
   "source": [
    "df_daily['rate'] = pd.to_numeric(df_daily['rate'])\n",
    "\n",
    "#arima.print_dataframe_info(df_daily)"
   ]
  },
  {
   "cell_type": "code",
   "execution_count": null,
   "metadata": {},
   "outputs": [],
   "source": [
    "timeseries.plot_timeserie(df_daily)"
   ]
  },
  {
   "cell_type": "code",
   "execution_count": null,
   "metadata": {},
   "outputs": [],
   "source": [
    "# removo o periodo inicial da serie temporal\n",
    "# tem um padrao que nao se repete\n",
    "# estou trabalhando com dados de 18 anos\n",
    "df_daily = df_daily['2000-11-03':]\n",
    "\n",
    "#arima.print_dataframe_info(df_daily)"
   ]
  },
  {
   "cell_type": "code",
   "execution_count": null,
   "metadata": {},
   "outputs": [],
   "source": [
    "timeseries.plot_timeserie(df_daily)"
   ]
  },
  {
   "cell_type": "markdown",
   "metadata": {},
   "source": [
    "## Obtendo a serie temporal SEMANAL"
   ]
  },
  {
   "cell_type": "code",
   "execution_count": null,
   "metadata": {},
   "outputs": [],
   "source": [
    "# transforma numa serie temporal semanal com o valor da sexta-feira\n",
    "df_weekly = df_daily.resample('W-FRI')\n",
    "df_weekly = df_weekly.mean()\n",
    "\n",
    "arima.print_dataframe_info(df_weekly)"
   ]
  },
  {
   "cell_type": "code",
   "execution_count": null,
   "metadata": {},
   "outputs": [],
   "source": [
    "timeseries.plot_timeserie(df_weekly)"
   ]
  },
  {
   "cell_type": "markdown",
   "metadata": {},
   "source": [
    "## Obtendo a serie temporal do dia 15 e do fim do mes"
   ]
  },
  {
   "cell_type": "code",
   "execution_count": null,
   "metadata": {},
   "outputs": [],
   "source": [
    "# transforma numa serie temporal do dia 15 e do fim do mes\n",
    "df_15 = df_daily.resample('SM')\n",
    "df_15 = df_15.mean()\n",
    "\n",
    "arima.print_dataframe_info(df_15)"
   ]
  },
  {
   "cell_type": "code",
   "execution_count": null,
   "metadata": {},
   "outputs": [],
   "source": [
    "timeseries.plot_timeserie(df_15)"
   ]
  },
  {
   "cell_type": "code",
   "execution_count": null,
   "metadata": {},
   "outputs": [],
   "source": [
    "timeseries.check_stationarity(df_15, window=24)"
   ]
  },
  {
   "cell_type": "code",
   "execution_count": null,
   "metadata": {},
   "outputs": [],
   "source": [
    "print(type(df_15))\n",
    "result = seasonal_decompose(df_15, model='additive', freq=24)\n",
    "result.plot()\n",
    "plt.show()"
   ]
  },
  {
   "cell_type": "markdown",
   "metadata": {},
   "source": [
    "## Obtendo a serie temporal MENSAL"
   ]
  },
  {
   "cell_type": "code",
   "execution_count": null,
   "metadata": {},
   "outputs": [],
   "source": [
    "df_monthly = df_daily.resample('M')\n",
    "df_monthly = df_monthly.mean()\n",
    "\n",
    "#arima.print_dataframe_info(df_monthly)"
   ]
  },
  {
   "cell_type": "code",
   "execution_count": null,
   "metadata": {},
   "outputs": [],
   "source": [
    "timeseries.plot_timeserie(df_monthly)"
   ]
  },
  {
   "cell_type": "code",
   "execution_count": null,
   "metadata": {},
   "outputs": [],
   "source": [
    "timeseries.check_stationarity(df_monthly, window=12)"
   ]
  },
  {
   "cell_type": "code",
   "execution_count": null,
   "metadata": {},
   "outputs": [],
   "source": [
    "result = seasonal_decompose(df_monthly, model='additive')\n",
    "result.plot()\n",
    "plt.show()"
   ]
  },
  {
   "cell_type": "code",
   "execution_count": null,
   "metadata": {},
   "outputs": [],
   "source": [
    "result = seasonal_decompose(df_monthly, model='additive', freq=12)\n",
    "result.plot()\n",
    "plt.show()"
   ]
  }
 ],
 "metadata": {
  "kernelspec": {
   "display_name": "Python 3",
   "language": "python",
   "name": "python3"
  },
  "language_info": {
   "codemirror_mode": {
    "name": "ipython",
    "version": 3
   },
   "file_extension": ".py",
   "mimetype": "text/x-python",
   "name": "python",
   "nbconvert_exporter": "python",
   "pygments_lexer": "ipython3",
   "version": "3.6.5"
  }
 },
 "nbformat": 4,
 "nbformat_minor": 2
}
